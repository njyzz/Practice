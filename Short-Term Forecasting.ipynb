{
 "cells": [
  {
   "cell_type": "code",
   "execution_count": 1,
   "metadata": {
    "scrolled": true
   },
   "outputs": [
    {
     "name": "stderr",
     "output_type": "stream",
     "text": [
      "C:\\Users\\User\\Anaconda3\\lib\\site-packages\\h5py\\__init__.py:36: FutureWarning: Conversion of the second argument of issubdtype from `float` to `np.floating` is deprecated. In future, it will be treated as `np.float64 == np.dtype(float).type`.\n",
      "  from ._conv import register_converters as _register_converters\n"
     ]
    },
    {
     "name": "stdout",
     "output_type": "stream",
     "text": [
      "<class 'pandas.core.frame.DataFrame'>\n",
      "RangeIndex: 261 entries, 0 to 260\n",
      "Data columns (total 11 columns):\n",
      "Holiday           261 non-null object\n",
      "Japan             261 non-null object\n",
      "China             261 non-null object\n",
      "Northeast Asia    261 non-null object\n",
      "Southeast Asia    261 non-null object\n",
      "Americas          261 non-null object\n",
      "Europe            261 non-null object\n",
      "Oceania           261 non-null object\n",
      "Middle East       261 non-null object\n",
      "Others            261 non-null object\n",
      "Total             261 non-null object\n",
      "dtypes: object(11)\n",
      "memory usage: 22.5+ KB\n"
     ]
    }
   ],
   "source": [
    "import tensorflow as tf\n",
    "import numpy as np\n",
    "import pandas as pd\n",
    "import datetime\n",
    "import matplotlib.pyplot as plt\n",
    "\n",
    "#Standardization\n",
    "tf.set_random_seed(777)\n",
    "def data_standardization(x):\n",
    "    x_np = np.asarray(x)\n",
    "    return (x_np - x_np.mean()) / x_np.std()\n",
    "\n",
    "\n",
    "# Min-Max scaling\n",
    "def min_max_scaling(x):\n",
    "    x_np = np.asarray(x)\n",
    "    return (x_np - x_np.min()) / (x_np.max() - x_np.min() + 1e-7) \n",
    "\n",
    "# Reverse\n",
    "def reverse_min_max_scaling(org_x, x):\n",
    "    org_x_np = np.asarray(org_x)\n",
    "    x_np = np.asarray(x)\n",
    "    return (x_np * (org_x_np.max() - org_x_np.min() + 1e-7)) + org_x_np.min()\n",
    "\n",
    "# Loading Data\n",
    "Weekly_file_name = 'ic8.csv' \n",
    "encoding = 'euc-kr' \n",
    "names = ['Holiday','Japan','China','Northeast Asia','Southeast Asia','Americas','Europe','Oceania','Middle East','Others','Total']\n",
    "raw_dataframe = pd.read_csv(Weekly_file_name, names=names, encoding=encoding) \n",
    "raw_dataframe.info()\n",
    "Weekly_info = raw_dataframe.values[1:].astype(np.float) \n",
    "\n",
    "\n",
    "# Hyper parameter\n",
    "input_data_column_cnt = 11  \n",
    "output_data_column_cnt = 1 \n",
    "\n",
    "seq_length = 12        \n",
    "rnn_cell_hidden_dim = 200   \n",
    "forget_bias = 1.0         \n",
    "num_stacked_layers = 1    \n",
    "keep_prob = 0.9            \n",
    "\n",
    "epoch_num =240        \n",
    "learning_rate = 0.01\n"
   ]
  },
  {
   "cell_type": "code",
   "execution_count": 2,
   "metadata": {
    "scrolled": true
   },
   "outputs": [
    {
     "name": "stdout",
     "output_type": "stream",
     "text": [
      "holiday.shape:  (260, 1)\n",
      "holiday[0]:  [2.]\n",
      "norm_holiday[0]:  [0.]\n",
      "====================================================================================================\n",
      "continent.shape:  (260, 9)\n",
      "continent[0]:  [114598. 155914.  92300. 251002.  89373.  49811.  66771.  15866.   6781.]\n",
      "norm_continent[0]:  [0.25505599 0.35009385 0.20376462 0.56882171 0.19703173 0.10602854\n",
      " 0.14504108 0.02794595 0.00704802]\n",
      "====================================================================================================\n",
      "total.shape:  (260, 1)\n",
      "total[0]:  [842416.]\n",
      "norm_total[0]:  [0.1760101]\n",
      "====================================================================================================\n",
      "x.shape:  (260, 11)\n",
      "x[0]:  [0.25505599 0.35009385 0.20376462 0.56882171 0.19703173 0.10602854\n",
      " 0.14504108 0.02794595 0.00704802 0.         0.1760101 ]\n",
      "x[-1]:  [0.65680925 0.51465501 0.34217633 0.97416799 0.22102583 0.1280145\n",
      " 0.21087935 0.02254492 0.01142543 0.2        0.92694142]\n",
      "====================================================================================================\n",
      "y[0]:  [0.1760101]\n",
      "y[-1]:  [0.92694142]\n"
     ]
    }
   ],
   "source": [
    "# Data preprocessing\n",
    "holiday = Weekly_info[:,:1]\n",
    "norm_holiday = min_max_scaling(holiday)\n",
    "print(\"holiday.shape: \", holiday.shape)\n",
    "print(\"holiday[0]: \", holiday[0])\n",
    "print(\"norm_holiday[0]: \", norm_holiday[0])\n",
    "print(\"=\"*100) \n",
    "\n",
    "continent = Weekly_info[:,1:-1]\n",
    "norm_continent = min_max_scaling(continent) \n",
    "print(\"continent.shape: \", continent.shape)\n",
    "print(\"continent[0]: \", continent[0])\n",
    "print(\"norm_continent[0]: \", norm_continent[0])\n",
    "print(\"=\"*100) \n",
    "\n",
    "total = Weekly_info[:,-1:]\n",
    "norm_total = min_max_scaling(total) \n",
    "print(\"total.shape: \", total.shape)\n",
    "print(\"total[0]: \", total[0])\n",
    "print(\"norm_total[0]: \", norm_total[0])\n",
    "print(\"=\"*100) \n",
    "\n",
    "x = np.concatenate((norm_continent, norm_holiday,  norm_total), axis=1) \n",
    "print(\"x.shape: \", x.shape)\n",
    "print(\"x[0]: \", x[0])    \n",
    "print(\"x[-1]: \", x[-1])  \n",
    "print(\"=\"*100) \n",
    "\n",
    "y = x[:, [-1]] \n",
    "print(\"y[0]: \",y[0])    \n",
    "print(\"y[-1]: \",y[-1])   "
   ]
  },
  {
   "cell_type": "code",
   "execution_count": 3,
   "metadata": {
    "scrolled": true
   },
   "outputs": [
    {
     "name": "stdout",
     "output_type": "stream",
     "text": [
      "[[0.25505599 0.35009385 0.20376462 0.56882171 0.19703173 0.10602854\n",
      "  0.14504108 0.02794595 0.00704802 0.         0.1760101 ]\n",
      " [0.27597462 0.38765722 0.21493932 0.58831648 0.18673574 0.1108545\n",
      "  0.1409121  0.030957   0.00764149 0.         0.22715832]\n",
      " [0.28443041 0.41540305 0.21838742 0.55168242 0.17617291 0.10961696\n",
      "  0.14443611 0.03526771 0.00786001 0.         0.2267084 ]\n",
      " [0.26646992 0.3788334  0.22865582 0.50324798 0.14969452 0.10516134\n",
      "  0.12143343 0.029172   0.00638094 0.39999999 0.13185831]\n",
      " [0.26697598 0.42187141 0.241443   0.52621155 0.15370619 0.10491061\n",
      "  0.12354738 0.02915359 0.00653966 0.         0.18433083]\n",
      " [0.30048168 0.40102868 0.21510034 0.55386767 0.16192735 0.1031118\n",
      "  0.13424133 0.03133195 0.00651436 0.         0.20477964]\n",
      " [0.32118639 0.42122043 0.22370334 0.57222841 0.16183994 0.10665421\n",
      "  0.13815868 0.03374723 0.00742756 0.         0.253101  ]\n",
      " [0.31204742 0.41555027 0.21570991 0.52224589 0.15950747 0.10164653\n",
      "  0.140896   0.03173219 0.00715153 0.         0.20409203]\n",
      " [0.2671692  0.36899055 0.18952596 0.43525666 0.15471831 0.07934544\n",
      "  0.12493444 0.02894887 0.00584728 0.         0.04924525]\n",
      " [0.27509362 0.36713883 0.18712218 0.4295428  0.14897224 0.07950185\n",
      "  0.12503105 0.02656349 0.005125   0.         0.04269733]\n",
      " [0.30507531 0.39057626 0.18950756 0.43881288 0.1563929  0.07522106\n",
      "  0.13681993 0.0274882  0.00498468 0.         0.09238825]\n",
      " [0.31900573 0.41258983 0.201071   0.42922076 0.16128557 0.07418363\n",
      "  0.14672488 0.03087879 0.00567706 0.         0.1266842 ]] -> [0.08305308]\n",
      "WARNING:tensorflow:From <ipython-input-3-6acb152a4454>:29: BasicLSTMCell.__init__ (from tensorflow.python.ops.rnn_cell_impl) is deprecated and will be removed in a future version.\n",
      "Instructions for updating:\n",
      "This class is deprecated, please use tf.nn.rnn_cell.LSTMCell, which supports all the feature this cell currently has. Please replace the existing code with tf.nn.rnn_cell.LSTMCell(name='basic_lstm_cell').\n"
     ]
    }
   ],
   "source": [
    "dataX = [] \n",
    "dataY = [] \n",
    "\n",
    "for i in range(0, len(y) - seq_length):\n",
    "    _x = x[i : i+seq_length]\n",
    "    _y = y[i + seq_length] \n",
    "    if i is 0:\n",
    "        print(_x, \"->\", _y) \n",
    "    dataX.append(_x)\n",
    "    dataY.append(_y) \n",
    "\n",
    "train_size = int(len(dataY) * 0.6)\n",
    "test_size = len(dataY) - train_size\n",
    "\n",
    "trainX = np.array(dataX[0:train_size])\n",
    "trainY = np.array(dataY[0:train_size])\n",
    "\n",
    "testX = np.array(dataX[train_size:len(dataX)])\n",
    "testY = np.array(dataY[train_size:len(dataY)])    \n",
    "\n",
    "X = tf.placeholder(tf.float32, [None, seq_length, input_data_column_cnt])\n",
    "Y = tf.placeholder(tf.float32, [None, 1])\n",
    "\n",
    "targets = tf.placeholder(tf.float32, [None, 1])\n",
    "predictions = tf.placeholder(tf.float32, [None, 1])\n",
    "\n",
    "def lstm_cell():\n",
    "    cell = tf.contrib.rnn.BasicLSTMCell(num_units=rnn_cell_hidden_dim, \n",
    "                                        forget_bias=forget_bias, state_is_tuple=True, activation=tf.nn.softsign)\n",
    "    if keep_prob < 1.0:\n",
    "        cell = tf.contrib.rnn.DropoutWrapper(cell, output_keep_prob=keep_prob)\n",
    "    return cell\n",
    "\n",
    "stackedRNNs = [lstm_cell() for _ in range(num_stacked_layers)]\n",
    "multi_cells = tf.contrib.rnn.MultiRNNCell(stackedRNNs, state_is_tuple=True) if num_stacked_layers > 1 else lstm_cell()\n",
    "\n",
    "hypothesis, _states = tf.nn.dynamic_rnn(multi_cells, X, dtype=tf.float32)\n",
    "hypothesis = tf.contrib.layers.fully_connected(hypothesis[:, -1], output_data_column_cnt, activation_fn=tf.identity)\n",
    "\n",
    "loss =tf.reduce_sum(tf.square(hypothesis - Y))\n",
    "optimizer = tf.train.AdamOptimizer(learning_rate)\n",
    "train = optimizer.minimize(loss)\n",
    "\n",
    "rmse = tf.sqrt(tf.reduce_mean(tf.squared_difference(targets, predictions)))\n",
    "mape = tf.reduce_mean(tf.abs((predictions-targets))/targets)*100\n",
    "mse=tf.reduce_mean(tf.square(predictions - targets))"
   ]
  },
  {
   "cell_type": "code",
   "execution_count": 4,
   "metadata": {},
   "outputs": [
    {
     "name": "stdout",
     "output_type": "stream",
     "text": [
      "Start Learning!\n",
      "epoch: 10, RMSE(train): 0.16248111426830292, RMSE(test): 0.2569149434566498\n",
      "epoch: 10, MAPE(train): inf, MAPE(test): 28.805530548095703\n",
      "epoch: 10, MSE(train): 0.026400111615657806, MSE(test): 0.06600528210401535\n",
      "epoch: 20, RMSE(train): 0.15816274285316467, RMSE(test): 0.2321244329214096\n",
      "epoch: 20, MAPE(train): inf, MAPE(test): 25.547569274902344\n",
      "epoch: 20, MSE(train): 0.02501545287668705, MSE(test): 0.053881753236055374\n",
      "epoch: 30, RMSE(train): 0.13825646042823792, RMSE(test): 0.30047425627708435\n",
      "epoch: 30, MAPE(train): inf, MAPE(test): 35.93659210205078\n",
      "epoch: 30, MSE(train): 0.019114848226308823, MSE(test): 0.09028477966785431\n",
      "epoch: 40, RMSE(train): 0.11319965124130249, RMSE(test): 0.21523180603981018\n",
      "epoch: 40, MAPE(train): inf, MAPE(test): 24.544395446777344\n",
      "epoch: 40, MSE(train): 0.01281416043639183, MSE(test): 0.046324729919433594\n",
      "epoch: 50, RMSE(train): 0.09349408745765686, RMSE(test): 0.11586505174636841\n",
      "epoch: 50, MAPE(train): inf, MAPE(test): 12.649065017700195\n",
      "epoch: 50, MSE(train): 0.008741144090890884, MSE(test): 0.013424710370600224\n",
      "epoch: 60, RMSE(train): 0.08768276870250702, RMSE(test): 0.09043490886688232\n",
      "epoch: 60, MAPE(train): inf, MAPE(test): 10.208781242370605\n",
      "epoch: 60, MSE(train): 0.00768826762214303, MSE(test): 0.008178472518920898\n",
      "epoch: 70, RMSE(train): 0.07925619930028915, RMSE(test): 0.09517347067594528\n",
      "epoch: 70, MAPE(train): inf, MAPE(test): 10.52811336517334\n",
      "epoch: 70, MSE(train): 0.006281544920057058, MSE(test): 0.009057989344000816\n",
      "epoch: 80, RMSE(train): 0.07482651621103287, RMSE(test): 0.08290734142065048\n",
      "epoch: 80, MAPE(train): inf, MAPE(test): 9.534028053283691\n",
      "epoch: 80, MSE(train): 0.005599007476121187, MSE(test): 0.0068736267276108265\n",
      "epoch: 90, RMSE(train): 0.06740979105234146, RMSE(test): 0.09283324331045151\n",
      "epoch: 90, MAPE(train): inf, MAPE(test): 10.520469665527344\n",
      "epoch: 90, MSE(train): 0.004544079769402742, MSE(test): 0.008618011139333248\n",
      "epoch: 100, RMSE(train): 0.06648597121238708, RMSE(test): 0.09654795378446579\n",
      "epoch: 100, MAPE(train): inf, MAPE(test): 11.004908561706543\n",
      "epoch: 100, MSE(train): 0.004420384299010038, MSE(test): 0.009321507066488266\n",
      "epoch: 110, RMSE(train): 0.06703615188598633, RMSE(test): 0.09124516695737839\n",
      "epoch: 110, MAPE(train): inf, MAPE(test): 10.385323524475098\n",
      "epoch: 110, MSE(train): 0.004493846092373133, MSE(test): 0.008325680159032345\n",
      "epoch: 120, RMSE(train): 0.0626041442155838, RMSE(test): 0.08377118408679962\n",
      "epoch: 120, MAPE(train): inf, MAPE(test): 9.171695709228516\n",
      "epoch: 120, MSE(train): 0.0039192792028188705, MSE(test): 0.007017611060291529\n",
      "epoch: 130, RMSE(train): 0.06306672096252441, RMSE(test): 0.08655498921871185\n",
      "epoch: 130, MAPE(train): inf, MAPE(test): 9.84592342376709\n",
      "epoch: 130, MSE(train): 0.003977411426603794, MSE(test): 0.007491766009479761\n",
      "epoch: 140, RMSE(train): 0.06049160659313202, RMSE(test): 0.08500266075134277\n",
      "epoch: 140, MAPE(train): inf, MAPE(test): 9.701977729797363\n",
      "epoch: 140, MSE(train): 0.0036592346150428057, MSE(test): 0.0072254519909620285\n",
      "epoch: 150, RMSE(train): 0.06557437032461166, RMSE(test): 0.09527071565389633\n",
      "epoch: 150, MAPE(train): inf, MAPE(test): 10.696873664855957\n",
      "epoch: 150, MSE(train): 0.0042999982833862305, MSE(test): 0.00907650962471962\n",
      "epoch: 160, RMSE(train): 0.058253541588783264, RMSE(test): 0.07782166451215744\n",
      "epoch: 160, MAPE(train): inf, MAPE(test): 8.499073028564453\n",
      "epoch: 160, MSE(train): 0.003393474966287613, MSE(test): 0.006056211423128843\n",
      "epoch: 170, RMSE(train): 0.05627063661813736, RMSE(test): 0.08215616643428802\n",
      "epoch: 170, MAPE(train): inf, MAPE(test): 9.045205116271973\n",
      "epoch: 170, MSE(train): 0.003166384529322386, MSE(test): 0.006749635562300682\n",
      "epoch: 180, RMSE(train): 0.05127211660146713, RMSE(test): 0.0784587562084198\n",
      "epoch: 180, MAPE(train): inf, MAPE(test): 8.820517539978027\n",
      "epoch: 180, MSE(train): 0.0026288300286978483, MSE(test): 0.006155775859951973\n",
      "epoch: 190, RMSE(train): 0.06099865958094597, RMSE(test): 0.08614759892225266\n",
      "epoch: 190, MAPE(train): inf, MAPE(test): 9.799022674560547\n",
      "epoch: 190, MSE(train): 0.003720836481079459, MSE(test): 0.0074214087799191475\n",
      "epoch: 200, RMSE(train): 0.052414558827877045, RMSE(test): 0.0773671418428421\n",
      "epoch: 200, MAPE(train): inf, MAPE(test): 8.5547513961792\n",
      "epoch: 200, MSE(train): 0.0027472861111164093, MSE(test): 0.005985674448311329\n",
      "epoch: 210, RMSE(train): 0.0529603473842144, RMSE(test): 0.07785186916589737\n",
      "epoch: 210, MAPE(train): inf, MAPE(test): 8.407713890075684\n",
      "epoch: 210, MSE(train): 0.0028047985397279263, MSE(test): 0.0060609132051467896\n",
      "epoch: 220, RMSE(train): 0.051062487065792084, RMSE(test): 0.07165700942277908\n",
      "epoch: 220, MAPE(train): inf, MAPE(test): 7.908566474914551\n",
      "epoch: 220, MSE(train): 0.0026073777116835117, MSE(test): 0.005134726874530315\n",
      "epoch: 230, RMSE(train): 0.05095455422997475, RMSE(test): 0.07643598318099976\n",
      "epoch: 230, MAPE(train): inf, MAPE(test): 8.524476051330566\n",
      "epoch: 230, MSE(train): 0.002596366684883833, MSE(test): 0.005842459853738546\n",
      "epoch: 240, RMSE(train): 0.05124964192509651, RMSE(test): 0.06993915140628815\n",
      "epoch: 240, MAPE(train): inf, MAPE(test): 7.6461100578308105\n",
      "epoch: 240, MSE(train): 0.002626525703817606, MSE(test): 0.004891484510153532\n",
      "elapsed_time: 0:00:08.516727\n",
      "elapsed_time per epoch: 0:00:00.035486\n"
     ]
    }
   ],
   "source": [
    "train_error_summary = [] \n",
    "test_error_summary = []  \n",
    "test_error_summary2 = []\n",
    "test_predict = ''        \n",
    "\n",
    "sess = tf.Session()\n",
    "sess.run(tf.global_variables_initializer())\n",
    "\n",
    "start_time = datetime.datetime.now() \n",
    "print('Start Learning!')\n",
    "for epoch in range(epoch_num):\n",
    "    _, _loss = sess.run([train, loss], feed_dict={X: trainX, Y: trainY})\n",
    "    if ((epoch+1) % 10 == 0) or (epoch == epoch_num-1): \n",
    "        \n",
    "        train_predict = sess.run(hypothesis, feed_dict={X: trainX})\n",
    "        train_error = sess.run(rmse, feed_dict={targets: trainY, predictions: train_predict})\n",
    "        train_error_summary.append(train_error) \n",
    "        train_error2 = sess.run(mape, feed_dict={targets: trainY, predictions: train_predict})\n",
    "        train_error3 = sess.run(mse, feed_dict={targets: trainY, predictions: train_predict})\n",
    "        \n",
    "        test_predict = sess.run(hypothesis, feed_dict={X: testX})\n",
    "        test_error = sess.run(rmse, feed_dict={targets: testY, predictions: test_predict})\n",
    "        test_error_summary.append(test_error)\n",
    "        test_error2 = sess.run(mape, feed_dict={targets: testY, predictions: test_predict})\n",
    "        test_error3 = sess.run(mse, feed_dict={targets: testY, predictions: test_predict})\n",
    "        test_error_summary2.append(test_error2)\n",
    "        \n",
    "        print(\"epoch: {}, RMSE(train): {}, RMSE(test): {}\".format(epoch+1, train_error, test_error))\n",
    "        print(\"epoch: {}, MAPE(train): {}, MAPE(test): {}\".format(epoch+1, train_error2, test_error2))\n",
    "        print(\"epoch: {}, MSE(train): {}, MSE(test): {}\".format(epoch+1, train_error3, test_error3))\n",
    "end_time = datetime.datetime.now() \n",
    "elapsed_time = end_time - start_time \n",
    "print('elapsed_time:',elapsed_time)\n",
    "print('elapsed_time per epoch:',elapsed_time/epoch_num)"
   ]
  },
  {
   "cell_type": "code",
   "execution_count": 5,
   "metadata": {
    "scrolled": true
   },
   "outputs": [
    {
     "name": "stdout",
     "output_type": "stream",
     "text": [
      "input_data_column_cnt: 11,output_data_column_cnt: 1,seq_length: 12,rnn_cell_hidden_dim: 200,forget_bias: 1.0,num_stacked_layers: 1,keep_prob: 0.9,epoch_num: 240,learning_rate: 0.01,train_error: 0.051249642,test_error: 0.06993915,min_train_error: 0.050954554\n",
      ",min_test_error: 0.06993915\n"
     ]
    },
    {
     "data": {
      "image/png": "[encoded data removed]",
      "text/plain": [
       "<Figure size 432x288 with 1 Axes>"
      ]
     },
     "metadata": {},
     "output_type": "display_data"
    },
    {
     "data": {
      "image/png": "[encoded data removed]",
      "text/plain": [
       "<Figure size 432x288 with 1 Axes>"
      ]
     },
     "metadata": {},
     "output_type": "display_data"
    },
    {
     "data": {
      "text/plain": [
       "<Figure size 432x288 with 0 Axes>"
      ]
     },
     "metadata": {},
     "output_type": "display_data"
    },
    {
     "data": {
      "image/png": "[encoded data removed]",
      "text/plain": [
       "<Figure size 576x360 with 1 Axes>"
      ]
     },
     "metadata": {},
     "output_type": "display_data"
    }
   ],
   "source": [
    "print('input_data_column_cnt:', input_data_column_cnt, end='')\n",
    "print(',output_data_column_cnt:', output_data_column_cnt, end='')\n",
    "print(',seq_length:', seq_length, end='')\n",
    "print(',rnn_cell_hidden_dim:', rnn_cell_hidden_dim, end='')\n",
    "print(',forget_bias:', forget_bias, end='')\n",
    "print(',num_stacked_layers:', num_stacked_layers, end='')\n",
    "print(',keep_prob:', keep_prob, end='')\n",
    "print(',epoch_num:', epoch_num, end='')\n",
    "print(',learning_rate:', learning_rate, end='')\n",
    "print(',train_error:', train_error_summary[-1], end='')\n",
    "print(',test_error:', test_error_summary[-1], end='')\n",
    "print(',min_train_error:', np.min(train_error_summary))\n",
    "print(',min_test_error:', np.min(test_error_summary))\n",
    "\n",
    "plt.figure(1)\n",
    "plt.plot(train_error_summary, 'gold')\n",
    "plt.plot(test_error_summary, 'b')\n",
    "plt.xlabel('Epoch(x10)')\n",
    "plt.ylabel('Root Mean Square Error')\n",
    "\n",
    "plt.figure(2)\n",
    "plt.plot(test_error_summary2, 'b')\n",
    "plt.xlabel('Epoch(x10)')\n",
    "plt.ylabel('MAPE')\n",
    "\n",
    "plt.figure(3)\n",
    "plt.figure(figsize=(8,5))\n",
    "test_Y = reverse_min_max_scaling(total,testY)\n",
    "test_predict1 = reverse_min_max_scaling(total,test_predict)\n",
    "plt.plot(test_Y, 'r')\n",
    "plt.plot(test_predict1, 'b')\n",
    "plt.xlabel('Time Period')\n",
    "plt.ylabel('No.Passengers')\n",
    "plt.show()"
   ]
  },
  {
   "cell_type": "code",
   "execution_count": 6,
   "metadata": {
    "scrolled": true
   },
   "outputs": [
    {
     "name": "stdout",
     "output_type": "stream",
     "text": [
      "recent_data.shape: (1, 12, 11)\n",
      "recent_data: [[[0.56580146 0.58008612 0.32806189 0.80226898 0.23569463 0.12673785\n",
      "   0.29002466 0.03924947 0.01258707 0.2        0.86470361]\n",
      "  [0.58183893 0.59041202 0.33153299 0.79076074 0.23443639 0.11458554\n",
      "   0.28051075 0.03495027 0.01182108 0.         0.85875983]\n",
      "  [0.5876264  0.57619867 0.33447963 0.81133894 0.21897169 0.09768087\n",
      "   0.26181878 0.03421878 0.01408684 0.         0.83758378]\n",
      "  [0.547213   0.53223135 0.33340771 0.84459621 0.20907364 0.09984542\n",
      "   0.23417416 0.03074768 0.01500465 0.         0.78214856]\n",
      "  [0.56536441 0.53457532 0.3393171  0.840228   0.20980972 0.09584066\n",
      "   0.23037182 0.03001159 0.01110569 0.         0.78850265]\n",
      "  [0.58727906 0.51986741 0.34514597 0.85954335 0.21685544 0.09974421\n",
      "   0.22130186 0.03193232 0.01445718 0.         0.81279986]\n",
      "  [0.59718171 0.51240534 0.32513595 0.87779828 0.19777012 0.10101166\n",
      "   0.19821867 0.02617705 0.01396032 0.         0.78421849]\n",
      "  [0.59887011 0.50670068 0.3143914  0.90683686 0.20582566 0.10590203\n",
      "   0.19342261 0.02448865 0.01401323 0.         0.79700731]\n",
      "  [0.56220384 0.47169521 0.303242   0.89034854 0.19209536 0.11003561\n",
      "   0.17757607 0.02311309 0.01513806 0.         0.72012015]\n",
      "  [0.60470359 0.4828193  0.32791697 0.93226172 0.20510107 0.11755288\n",
      "   0.18830222 0.02418962 0.01513116 0.         0.81393881]\n",
      "  [0.65067214 0.53898954 0.3367408  0.98857687 0.23743134 0.1254382\n",
      "   0.2242002  0.02733868 0.01611338 0.         0.9661851 ]\n",
      "  [0.65680925 0.51465501 0.34217633 0.97416799 0.22102583 0.1280145\n",
      "   0.21087935 0.02254492 0.01142543 0.2        0.92694142]]]\n",
      "test_predict [0.92156774]\n",
      "Next week number of passengers are 1369368\n"
     ]
    }
   ],
   "source": [
    "recent_data = np.array([x[len(x)-seq_length : ]])\n",
    "print(\"recent_data.shape:\", recent_data.shape)\n",
    "print(\"recent_data:\", recent_data)\n",
    "\n",
    "test_predict = sess.run(hypothesis, feed_dict={X: recent_data})\n",
    "\n",
    "print(\"test_predict\", test_predict[0])\n",
    "test_predict = reverse_min_max_scaling(total,test_predict) \n",
    "print(\"Next week number of passengers are\", int(test_predict[0])) "
   ]
  },
  {
   "cell_type": "code",
   "execution_count": null,
   "metadata": {},
   "outputs": [],
   "source": []
  }
 ],
 "metadata": {
  "kernelspec": {
   "display_name": "Python 3",
   "language": "python",
   "name": "python3"
  },
  "language_info": {
   "codemirror_mode": {
    "name": "ipython",
    "version": 3
   },
   "file_extension": ".py",
   "mimetype": "text/x-python",
   "name": "python",
   "nbconvert_exporter": "python",
   "pygments_lexer": "ipython3",
   "version": "3.6.5"
  }
 },
 "nbformat": 4,
 "nbformat_minor": 2
}
